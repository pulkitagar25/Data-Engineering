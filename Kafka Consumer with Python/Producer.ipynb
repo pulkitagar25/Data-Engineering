{
 "cells": [
  {
   "cell_type": "code",
   "execution_count": 1,
   "id": "b36940b9-04ed-4328-b1ec-1dff8b0e4a91",
   "metadata": {},
   "outputs": [
    {
     "name": "stdout",
     "output_type": "stream",
     "text": [
      "Collecting kafka-python\n",
      "  Downloading kafka_python-2.0.3-py2.py3-none-any.whl (249 kB)\n",
      "Installing collected packages: kafka-python\n",
      "Successfully installed kafka-python-2.0.3\n"
     ]
    },
    {
     "name": "stderr",
     "output_type": "stream",
     "text": [
      "WARNING: You are using pip version 21.2.3; however, version 25.0.1 is available.\n",
      "You should consider upgrading via the 'C:\\Users\\Pulkit\\AppData\\Local\\Programs\\Python\\Python310\\python.exe -m pip install --upgrade pip' command.\n"
     ]
    }
   ],
   "source": [
    "!pip install kafka-python"
   ]
  },
  {
   "cell_type": "code",
   "execution_count": 3,
   "id": "1f38d804-f179-417d-9e37-26f7491729a4",
   "metadata": {},
   "outputs": [],
   "source": [
    "from kafka import KafkaProducer\n",
    "from time import sleep\n",
    "import json\n",
    "from datetime import datetime"
   ]
  },
  {
   "cell_type": "code",
   "execution_count": 5,
   "id": "b70362d8-5855-4949-9ae1-e6072b585516",
   "metadata": {},
   "outputs": [],
   "source": [
    "producer = KafkaProducer(bootstrap_servers = ['localhost:9092'], api_version=(0,10,1))"
   ]
  },
  {
   "cell_type": "code",
   "execution_count": 6,
   "id": "db160061-de40-4ce7-a536-59aeecaa3de6",
   "metadata": {},
   "outputs": [
    {
     "data": {
      "text/plain": [
       "<kafka.producer.future.FutureRecordMetadata at 0x25363c9a650>"
      ]
     },
     "execution_count": 6,
     "metadata": {},
     "output_type": "execute_result"
    }
   ],
   "source": [
    "producer.send('pytops',b'Hello,kafkaa')"
   ]
  },
  {
   "cell_type": "code",
   "execution_count": 8,
   "id": "c0d86b01-3e25-405e-a37f-1b4afb1c445f",
   "metadata": {},
   "outputs": [
    {
     "data": {
      "text/plain": [
       "datetime.datetime(2025, 2, 19, 14, 39, 0, 70556)"
      ]
     },
     "execution_count": 8,
     "metadata": {},
     "output_type": "execute_result"
    }
   ],
   "source": [
    "now = datetime.now()\n",
    "now"
   ]
  },
  {
   "cell_type": "code",
   "execution_count": 9,
   "id": "ab639229-dc02-4f31-bf9c-1a52a6b91eb0",
   "metadata": {},
   "outputs": [
    {
     "data": {
      "text/plain": [
       "'19/02/25 14:39:00'"
      ]
     },
     "execution_count": 9,
     "metadata": {},
     "output_type": "execute_result"
    }
   ],
   "source": [
    "current_time = now.strftime(\"%d/%m/%y %H:%M:%S\")\n",
    "current_time"
   ]
  },
  {
   "cell_type": "code",
   "execution_count": 14,
   "id": "7b05f760-76ef-4b5d-aeca-8aa021ca5476",
   "metadata": {},
   "outputs": [
    {
     "name": "stdout",
     "output_type": "stream",
     "text": [
      "Message sent 0\n",
      "Message sent 1\n",
      "Message sent 2\n",
      "Message sent 3\n",
      "Message sent 4\n",
      "Message sent 5\n",
      "Message sent 6\n",
      "Message sent 7\n",
      "Message sent 8\n",
      "Message sent 9\n",
      "Message sent 10\n",
      "Message sent 11\n",
      "Message sent 12\n",
      "Message sent 13\n",
      "Message sent 14\n",
      "Message sent 15\n",
      "Message sent 16\n",
      "Message sent 17\n",
      "Message sent 18\n",
      "Message sent 19\n",
      "Message sent 20\n",
      "Message sent 21\n",
      "Message sent 22\n",
      "Message sent 23\n",
      "Message sent 24\n",
      "Message sent 25\n",
      "Message sent 26\n",
      "Message sent 27\n",
      "Message sent 28\n",
      "Message sent 29\n"
     ]
    }
   ],
   "source": [
    "for i in range(30):\n",
    "    message = \"Message {}\".format(str(datetime.now().time()))\n",
    "    producer.send('pytops',json.dumps(message).encode('utf-8'))\n",
    "    sleep(2)\n",
    "    print(\"Message sent\", i)"
   ]
  },
  {
   "cell_type": "code",
   "execution_count": null,
   "id": "2a143bc9-0620-4577-84e7-19eb83b1a6e2",
   "metadata": {},
   "outputs": [],
   "source": []
  }
 ],
 "metadata": {
  "kernelspec": {
   "display_name": "Python 3 (ipykernel)",
   "language": "python",
   "name": "python3"
  },
  "language_info": {
   "codemirror_mode": {
    "name": "ipython",
    "version": 3
   },
   "file_extension": ".py",
   "mimetype": "text/x-python",
   "name": "python",
   "nbconvert_exporter": "python",
   "pygments_lexer": "ipython3",
   "version": "3.10.0"
  }
 },
 "nbformat": 4,
 "nbformat_minor": 5
}
